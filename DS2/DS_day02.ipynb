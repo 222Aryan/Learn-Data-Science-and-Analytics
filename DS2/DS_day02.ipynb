{
  "nbformat": 4,
  "nbformat_minor": 0,
  "metadata": {
    "colab": {
      "provenance": []
    },
    "kernelspec": {
      "name": "python3",
      "display_name": "Python 3"
    },
    "language_info": {
      "name": "python"
    }
  },
  "cells": [
    {
      "cell_type": "code",
      "source": [
        "import numpy as np\n",
        "\"Running Fine\""
      ],
      "metadata": {
        "id": "8xe2tUqblyQE",
        "colab": {
          "base_uri": "https://localhost:8080/",
          "height": 36
        },
        "outputId": "ad30a234-950a-43e9-e9c1-2a79f6466e6c"
      },
      "execution_count": null,
      "outputs": [
        {
          "output_type": "execute_result",
          "data": {
            "text/plain": [
              "'Running Fine'"
            ],
            "application/vnd.google.colaboratory.intrinsic+json": {
              "type": "string"
            }
          },
          "metadata": {},
          "execution_count": 34
        }
      ]
    },
    {
      "cell_type": "markdown",
      "source": [
        "Empty arraay and Full array"
      ],
      "metadata": {
        "id": "cOps_2hxirVO"
      }
    },
    {
      "cell_type": "code",
      "source": [
        "np.empty((5,2))\n",
        "np.full((5,2),0)\n",
        "np.diag([1,2,3])"
      ],
      "metadata": {
        "colab": {
          "base_uri": "https://localhost:8080/"
        },
        "id": "QaGY4gqth4zv",
        "outputId": "d49d078e-e00d-407a-c130-3e62ccd7be32"
      },
      "execution_count": null,
      "outputs": [
        {
          "output_type": "execute_result",
          "data": {
            "text/plain": [
              "array([[4.69196364e-310, 0.00000000e+000],\n",
              "       [0.00000000e+000, 0.00000000e+000],\n",
              "       [6.89754732e-310, 3.79227302e+179],\n",
              "       [4.99026597e+174, 6.25408009e-091],\n",
              "       [3.15762825e-033, 6.89763205e-310]])"
            ]
          },
          "metadata": {},
          "execution_count": 3
        }
      ]
    },
    {
      "cell_type": "code",
      "source": [
        "np.full((100,),1)"
      ],
      "metadata": {
        "colab": {
          "base_uri": "https://localhost:8080/"
        },
        "id": "obYJiQdvh42M",
        "outputId": "4e9e76a0-d2b6-4695-a5cc-caffded9a009"
      },
      "execution_count": null,
      "outputs": [
        {
          "output_type": "execute_result",
          "data": {
            "text/plain": [
              "array([1, 1, 1, 1, 1, 1, 1, 1, 1, 1, 1, 1, 1, 1, 1, 1, 1, 1, 1, 1, 1, 1,\n",
              "       1, 1, 1, 1, 1, 1, 1, 1, 1, 1, 1, 1, 1, 1, 1, 1, 1, 1, 1, 1, 1, 1,\n",
              "       1, 1, 1, 1, 1, 1, 1, 1, 1, 1, 1, 1, 1, 1, 1, 1, 1, 1, 1, 1, 1, 1,\n",
              "       1, 1, 1, 1, 1, 1, 1, 1, 1, 1, 1, 1, 1, 1, 1, 1, 1, 1, 1, 1, 1, 1,\n",
              "       1, 1, 1, 1, 1, 1, 1, 1, 1, 1, 1, 1])"
            ]
          },
          "metadata": {},
          "execution_count": 12
        }
      ]
    },
    {
      "cell_type": "code",
      "source": [
        "np.eye(2,dtype=np.int64)"
      ],
      "metadata": {
        "colab": {
          "base_uri": "https://localhost:8080/"
        },
        "id": "MigMTUimh44-",
        "outputId": "50ae791a-6a41-4eca-cbea-2960a01ae3ef"
      },
      "execution_count": null,
      "outputs": [
        {
          "output_type": "execute_result",
          "data": {
            "text/plain": [
              "array([[1, 0],\n",
              "       [0, 1]])"
            ]
          },
          "metadata": {},
          "execution_count": 19
        }
      ]
    },
    {
      "cell_type": "code",
      "source": [
        "np.linspace(0,50,5)"
      ],
      "metadata": {
        "colab": {
          "base_uri": "https://localhost:8080/"
        },
        "id": "j6-kGt2th47r",
        "outputId": "29e17f63-d186-4e5e-8ad2-83d00cd832ce"
      },
      "execution_count": null,
      "outputs": [
        {
          "output_type": "execute_result",
          "data": {
            "text/plain": [
              "array([ 0. , 12.5, 25. , 37.5, 50. ])"
            ]
          },
          "metadata": {},
          "execution_count": 23
        }
      ]
    },
    {
      "cell_type": "code",
      "source": [
        "np.zeros((2,3),dtype='int64')"
      ],
      "metadata": {
        "colab": {
          "base_uri": "https://localhost:8080/"
        },
        "id": "IecgqFn3h4-k",
        "outputId": "13257a78-724d-4edd-93b8-0f1948f76d24"
      },
      "execution_count": null,
      "outputs": [
        {
          "output_type": "execute_result",
          "data": {
            "text/plain": [
              "array([[0, 0, 0],\n",
              "       [0, 0, 0]])"
            ]
          },
          "metadata": {},
          "execution_count": 21
        }
      ]
    },
    {
      "cell_type": "code",
      "source": [
        "a1 = np.array([1,2,3,4])\n",
        "np.any(a1 == 1)\n",
        "np.all(a1==1)"
      ],
      "metadata": {
        "colab": {
          "base_uri": "https://localhost:8080/"
        },
        "id": "b1_DmrnVh5BJ",
        "outputId": "7c8a5ff9-2b92-4ca0-d8c6-8c6c5c544a6a"
      },
      "execution_count": null,
      "outputs": [
        {
          "output_type": "execute_result",
          "data": {
            "text/plain": [
              "False"
            ]
          },
          "metadata": {},
          "execution_count": 27
        }
      ]
    },
    {
      "cell_type": "markdown",
      "source": [
        "Trignometric Function"
      ],
      "metadata": {
        "id": "VmiWbjSrpHRD"
      }
    },
    {
      "cell_type": "code",
      "source": [
        "angle1 = np.array([0,90,180])\n",
        "np.sin(angle1)\n",
        "np.cos(angle1)"
      ],
      "metadata": {
        "colab": {
          "base_uri": "https://localhost:8080/"
        },
        "id": "gEamrQUbh5EJ",
        "outputId": "a8504a75-b7a4-45be-8734-17c2ae888692"
      },
      "execution_count": null,
      "outputs": [
        {
          "output_type": "execute_result",
          "data": {
            "text/plain": [
              "array([ 1.        , -0.44807362, -0.59846007])"
            ]
          },
          "metadata": {},
          "execution_count": 30
        }
      ]
    },
    {
      "cell_type": "markdown",
      "source": [
        "Exponential and Log function"
      ],
      "metadata": {
        "id": "i9D_sRBjpj_J"
      }
    },
    {
      "cell_type": "code",
      "source": [
        "ar1 = np.array([0,1])\n",
        "np.exp(ar1)\n",
        "np.log(ar1)"
      ],
      "metadata": {
        "colab": {
          "base_uri": "https://localhost:8080/"
        },
        "id": "5e6qzn-7h5G_",
        "outputId": "ac2f7cec-1305-4eaa-ac04-9509eeaaa3c0"
      },
      "execution_count": null,
      "outputs": [
        {
          "output_type": "stream",
          "name": "stderr",
          "text": [
            "<ipython-input-33-5d32a94baf06>:3: RuntimeWarning: divide by zero encountered in log\n",
            "  np.log(ar)\n"
          ]
        },
        {
          "output_type": "execute_result",
          "data": {
            "text/plain": [
              "array([-inf,   0.])"
            ]
          },
          "metadata": {},
          "execution_count": 33
        }
      ]
    },
    {
      "cell_type": "markdown",
      "source": [
        "Random functiom"
      ],
      "metadata": {
        "id": "7kIfMymZrSUY"
      }
    },
    {
      "cell_type": "code",
      "source": [
        "np.random.rand(3,3)\n",
        "np.random.randint(10,size=(3,3))"
      ],
      "metadata": {
        "colab": {
          "base_uri": "https://localhost:8080/"
        },
        "id": "XoSu5yfmh5J5",
        "outputId": "32972b0a-9da4-463a-a3b4-39f7b0607929"
      },
      "execution_count": null,
      "outputs": [
        {
          "output_type": "execute_result",
          "data": {
            "text/plain": [
              "array([[8, 5, 1],\n",
              "       [0, 5, 5],\n",
              "       [1, 9, 9]])"
            ]
          },
          "metadata": {},
          "execution_count": 39
        }
      ]
    },
    {
      "cell_type": "markdown",
      "source": [
        "Boolean Masks"
      ],
      "metadata": {
        "id": "rwD_Fx8Nr0NQ"
      }
    },
    {
      "cell_type": "code",
      "source": [
        "ar2 = np.arange(-3,5)\n",
        "ar2 > 0\n",
        "ar2[ar2>0] # MASK FILTER"
      ],
      "metadata": {
        "colab": {
          "base_uri": "https://localhost:8080/"
        },
        "id": "8dJp00Oqh5M0",
        "outputId": "95e69671-8479-452b-d604-fdd525d6a1ac"
      },
      "execution_count": null,
      "outputs": [
        {
          "output_type": "execute_result",
          "data": {
            "text/plain": [
              "array([1, 2, 3, 4])"
            ]
          },
          "metadata": {},
          "execution_count": 44
        }
      ]
    },
    {
      "cell_type": "markdown",
      "source": [
        "## Task to Find Promoters , Detractor and NPS Score From given File Survey.txt"
      ],
      "metadata": {
        "id": "OCJXKndOZ3gS"
      }
    },
    {
      "cell_type": "code",
      "source": [
        "a = np.loadtxt('/content/survey.txt')\n",
        "detractor = a[a <= 6]\n",
        "promoter = a[a >= 9]\n",
        "passive = a[(a>6) & (a <9)]\n",
        "print(detractor,passive,promoter)\n",
        "print(len(detractor),len(promoter))\n"
      ],
      "metadata": {
        "id": "n2DqvOPAh5QK"
      },
      "execution_count": null,
      "outputs": []
    },
    {
      "cell_type": "code",
      "source": [
        "tot = a.size\n",
        "nps = (detractor.size/tot)*100 - (promoter.size/tot)*100\n",
        "print(nps)"
      ],
      "metadata": {
        "colab": {
          "base_uri": "https://localhost:8080/"
        },
        "id": "n28p3diph5Ti",
        "outputId": "e5e77072-4dda-4751-81d2-e1942dac823b"
      },
      "execution_count": null,
      "outputs": [
        {
          "output_type": "stream",
          "name": "stdout",
          "text": [
            "-23.73607540702657\n"
          ]
        }
      ]
    },
    {
      "cell_type": "code",
      "source": [
        "nps_min = 0/tot*100 - tot/tot*100\n",
        "nps_max = tot/tot*100 - 0/tot*100\n",
        "print(nps_min,nps_max)"
      ],
      "metadata": {
        "colab": {
          "base_uri": "https://localhost:8080/"
        },
        "id": "OFGDd5ylh5WZ",
        "outputId": "c6225fdd-dd45-426e-9053-cb467595ce29"
      },
      "execution_count": null,
      "outputs": [
        {
          "output_type": "stream",
          "name": "stdout",
          "text": [
            "-100.0 100.0\n"
          ]
        }
      ]
    },
    {
      "cell_type": "code",
      "source": [
        "np.isnan(a)"
      ],
      "metadata": {
        "id": "PZ2nJofZh5ZZ",
        "colab": {
          "base_uri": "https://localhost:8080/"
        },
        "outputId": "80e0ee92-cc8a-4b31-d1ff-e7939d2ddcd8"
      },
      "execution_count": null,
      "outputs": [
        {
          "output_type": "execute_result",
          "data": {
            "text/plain": [
              "array([False, False, False, ..., False, False, False])"
            ]
          },
          "metadata": {},
          "execution_count": 69
        }
      ]
    }
  ]
}