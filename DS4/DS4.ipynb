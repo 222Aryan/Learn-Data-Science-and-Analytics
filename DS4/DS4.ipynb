{
  "nbformat": 4,
  "nbformat_minor": 0,
  "metadata": {
    "colab": {
      "provenance": []
    },
    "kernelspec": {
      "name": "python3",
      "display_name": "Python 3"
    },
    "language_info": {
      "name": "python"
    }
  },
  "cells": [
    {
      "cell_type": "code",
      "execution_count": null,
      "metadata": {
        "id": "v97AF0NcvTBl"
      },
      "outputs": [],
      "source": [
        "import numpy as np"
      ]
    },
    {
      "cell_type": "code",
      "source": [
        "a = np.array([1,2,3,4,5])\n",
        "a[1:4]"
      ],
      "metadata": {
        "id": "kr3nu85_vigG"
      },
      "execution_count": null,
      "outputs": []
    },
    {
      "cell_type": "code",
      "source": [
        "b = np.array([[1,2,3],[4,5,6]])\n",
        "b"
      ],
      "metadata": {
        "id": "7gwP30TLvxgA"
      },
      "execution_count": null,
      "outputs": []
    },
    {
      "cell_type": "code",
      "source": [
        "b[:,1:3]"
      ],
      "metadata": {
        "colab": {
          "base_uri": "https://localhost:8080/"
        },
        "id": "kd_mEZ8d0BYC",
        "outputId": "c460fe05-16be-42d5-afe0-155af5392a55"
      },
      "execution_count": null,
      "outputs": [
        {
          "output_type": "execute_result",
          "data": {
            "text/plain": [
              "array([[2, 3],\n",
              "       [5, 6]])"
            ]
          },
          "metadata": {},
          "execution_count": 30
        }
      ]
    },
    {
      "cell_type": "code",
      "source": [
        "np.sum(b,axis=0)\n",
        "np.sum(b,axis=1)"
      ],
      "metadata": {
        "id": "74zvGtHQw53v"
      },
      "execution_count": null,
      "outputs": []
    },
    {
      "cell_type": "code",
      "source": [
        "d = b.reshape(b.size)"
      ],
      "metadata": {
        "id": "kPuhPfSx0rh6"
      },
      "execution_count": null,
      "outputs": []
    },
    {
      "cell_type": "code",
      "source": [
        "b.reshape(b.size).shape"
      ],
      "metadata": {
        "colab": {
          "base_uri": "https://localhost:8080/"
        },
        "id": "jkSfGE1O1BN7",
        "outputId": "90d68cf0-85b2-4fb8-d3fe-a2b759858a4d"
      },
      "execution_count": null,
      "outputs": [
        {
          "output_type": "execute_result",
          "data": {
            "text/plain": [
              "(6,)"
            ]
          },
          "metadata": {},
          "execution_count": 32
        }
      ]
    },
    {
      "cell_type": "code",
      "source": [
        "d .reshape((2,3))"
      ],
      "metadata": {
        "colab": {
          "base_uri": "https://localhost:8080/"
        },
        "id": "zI8FzLCK1PIa",
        "outputId": "8c3b9adb-0b6e-42a4-dace-f7af5e537d23"
      },
      "execution_count": null,
      "outputs": [
        {
          "output_type": "execute_result",
          "data": {
            "text/plain": [
              "array([[1, 2, 3],\n",
              "       [4, 5, 6]])"
            ]
          },
          "metadata": {},
          "execution_count": 34
        }
      ]
    },
    {
      "cell_type": "code",
      "source": [
        "d .reshape((3,2))"
      ],
      "metadata": {
        "colab": {
          "base_uri": "https://localhost:8080/"
        },
        "id": "Er66Jl0D1WWe",
        "outputId": "1c8dfd50-3409-4e35-bf23-9b1acb919a50"
      },
      "execution_count": null,
      "outputs": [
        {
          "output_type": "execute_result",
          "data": {
            "text/plain": [
              "array([[1, 2],\n",
              "       [3, 4],\n",
              "       [5, 6]])"
            ]
          },
          "metadata": {},
          "execution_count": 35
        }
      ]
    },
    {
      "cell_type": "code",
      "source": [
        "d .reshape((-1,1))"
      ],
      "metadata": {
        "colab": {
          "base_uri": "https://localhost:8080/"
        },
        "id": "0TH7i2w41aqq",
        "outputId": "8abeeee6-d1e1-41a9-cfb5-69ea468244c8"
      },
      "execution_count": null,
      "outputs": [
        {
          "output_type": "execute_result",
          "data": {
            "text/plain": [
              "array([[1],\n",
              "       [2],\n",
              "       [3],\n",
              "       [4],\n",
              "       [5],\n",
              "       [6]])"
            ]
          },
          "metadata": {},
          "execution_count": 36
        }
      ]
    },
    {
      "cell_type": "code",
      "source": [
        "d .reshape((-1,2))"
      ],
      "metadata": {
        "colab": {
          "base_uri": "https://localhost:8080/"
        },
        "id": "G5I8f2Nh1z8U",
        "outputId": "f5375f2e-f3d2-4908-93e5-1766bd555200"
      },
      "execution_count": null,
      "outputs": [
        {
          "output_type": "execute_result",
          "data": {
            "text/plain": [
              "array([[1, 2],\n",
              "       [3, 4],\n",
              "       [5, 6]])"
            ]
          },
          "metadata": {},
          "execution_count": 37
        }
      ]
    },
    {
      "cell_type": "code",
      "source": [
        "d .reshape((-1,3))"
      ],
      "metadata": {
        "colab": {
          "base_uri": "https://localhost:8080/"
        },
        "id": "kySwO68F16Vu",
        "outputId": "eb8a212d-04f5-4e86-e0b3-6a413e087a3b"
      },
      "execution_count": null,
      "outputs": [
        {
          "output_type": "execute_result",
          "data": {
            "text/plain": [
              "array([[1, 2, 3],\n",
              "       [4, 5, 6]])"
            ]
          },
          "metadata": {},
          "execution_count": 38
        }
      ]
    },
    {
      "cell_type": "markdown",
      "source": [
        "**Boolean Array as Masks**"
      ],
      "metadata": {
        "id": "AeJvXxbc2M1C"
      }
    },
    {
      "cell_type": "code",
      "source": [
        "x = np.arange(-3,5)\n",
        "x"
      ],
      "metadata": {
        "colab": {
          "base_uri": "https://localhost:8080/"
        },
        "id": "w0nqvp-c2Jp_",
        "outputId": "8226b938-0237-4801-84a8-cb8a44200334"
      },
      "execution_count": null,
      "outputs": [
        {
          "output_type": "execute_result",
          "data": {
            "text/plain": [
              "array([-3, -2, -1,  0,  1,  2,  3,  4])"
            ]
          },
          "metadata": {},
          "execution_count": 41
        }
      ]
    },
    {
      "cell_type": "code",
      "source": [
        "x % 2 == 1"
      ],
      "metadata": {
        "colab": {
          "base_uri": "https://localhost:8080/"
        },
        "id": "g_34QPqb2Jmg",
        "outputId": "a19620b5-7bcf-4580-ab2f-2c9f16bd635a"
      },
      "execution_count": null,
      "outputs": [
        {
          "output_type": "execute_result",
          "data": {
            "text/plain": [
              "array([ True, False,  True, False,  True, False,  True, False])"
            ]
          },
          "metadata": {},
          "execution_count": 42
        }
      ]
    },
    {
      "cell_type": "code",
      "source": [
        "x[x % 2 == 1]"
      ],
      "metadata": {
        "colab": {
          "base_uri": "https://localhost:8080/"
        },
        "id": "VXbDH7uX2Jj2",
        "outputId": "67be3488-2249-4e6e-df55-a17cc06f96b1"
      },
      "execution_count": null,
      "outputs": [
        {
          "output_type": "execute_result",
          "data": {
            "text/plain": [
              "array([-3, -1,  1,  3])"
            ]
          },
          "metadata": {},
          "execution_count": 43
        }
      ]
    },
    {
      "cell_type": "markdown",
      "source": [
        "**3-D Array**"
      ],
      "metadata": {
        "id": "ZvezBOQWzxsP"
      }
    },
    {
      "cell_type": "code",
      "source": [
        "c = np.array([[[1,2],[3,4]],[[5,6],[7,8]]])\n",
        "c"
      ],
      "metadata": {
        "id": "Ne0HjQsSyvYs"
      },
      "execution_count": null,
      "outputs": []
    },
    {
      "cell_type": "code",
      "source": [
        "c[0,:,:]\n",
        "c[1,:,:]"
      ],
      "metadata": {
        "id": "Mj1wo5WFzBBg"
      },
      "execution_count": null,
      "outputs": []
    },
    {
      "cell_type": "markdown",
      "source": [
        "**Types of Data**\n",
        "\n",
        "\n",
        "1.   Qualitative\n",
        "\n",
        "*   Ordinal\n",
        "*   Nomial\n",
        "\n",
        "\n",
        "2.   Quantitative\n",
        "\n",
        "\n",
        "*   Continous\n",
        "*   Discrete\n",
        "\n",
        "\n",
        "\n"
      ],
      "metadata": {
        "id": "5MQ4lRT25Scu"
      }
    },
    {
      "cell_type": "markdown",
      "source": [
        "**Numerical Data**\n",
        "\n",
        "Used for Quantitative Measurements\n",
        "\n",
        "\n",
        "*   Discrete Data (Specific Value)\n",
        "\n",
        "    Ex -> Number of Student in a class\n",
        "*   Continuous Data (Range)\n",
        "\n",
        "    Ex -> temperature, Height\n",
        "\n",
        "**Categorical Data**\n",
        "\n",
        "\n",
        "*   Nominal Data\n",
        "\n",
        "    Ex -> Types of fruits\n",
        "*   Ordinal Data\n",
        "\n",
        "    Ex -> Education levels, Customers satisfaction ratings\n",
        "\n"
      ],
      "metadata": {
        "id": "-Jp1hPhN56Z3"
      }
    }
  ]
}